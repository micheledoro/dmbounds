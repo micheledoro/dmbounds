{
 "cells": [
  {
   "cell_type": "markdown",
   "metadata": {
    "scrolled": true
   },
   "source": [
    "# DMbounds tutorial notebook\n",
    "&copy; M. H&uuml;tten and M. Doro, 2022\n",
    "\n",
    "Load the module:"
   ]
  },
  {
   "cell_type": "code",
   "execution_count": null,
   "metadata": {},
   "outputs": [],
   "source": [
    "from dmbounds import dmbounds as bounds"
   ]
  },
  {
   "cell_type": "markdown",
   "metadata": {},
   "source": [
    "You can load all metadata in the database into a Pandas dataframe:"
   ]
  },
  {
   "cell_type": "code",
   "execution_count": null,
   "metadata": {},
   "outputs": [],
   "source": [
    "metadata_all = bounds.metadata()"
   ]
  },
  {
   "cell_type": "markdown",
   "metadata": {},
   "source": [
    "If you want to filter the metadata, there are two ways:\n",
    "1. The metadata can filtered interactively by a drop-down menu (shown in the following).\n",
    "2. Using pandas syntax (shown further below.)\n",
    "\n",
    "Filtering the data interactively has to be done in two subsequent cell executions. First, the interactive selection is called:"
   ]
  },
  {
   "cell_type": "code",
   "execution_count": null,
   "metadata": {},
   "outputs": [],
   "source": [
    "selection = bounds.interactive_selection()"
   ]
  },
  {
   "cell_type": "markdown",
   "metadata": {},
   "source": [
    "Secondly, once the interactive selection of limits is done, a filtered pandas dataframe is created:"
   ]
  },
  {
   "cell_type": "code",
   "execution_count": null,
   "metadata": {},
   "outputs": [],
   "source": [
    "metadata_filtered = bounds.filter_metadata(selection)"
   ]
  },
  {
   "cell_type": "markdown",
   "metadata": {},
   "source": [
    "The Pandas dataframe can be displayed in HTML including clickable weblinks with `show_metadata()`:"
   ]
  },
  {
   "cell_type": "code",
   "execution_count": null,
   "metadata": {},
   "outputs": [],
   "source": [
    "bounds.show_metadata(metadata_filtered)"
   ]
  },
  {
   "cell_type": "markdown",
   "metadata": {},
   "source": [
    "You can retrieve a matplotlib figure from the filtered dataframe with the following method. Note that currently, only ten curves can be plotted simultaneously:"
   ]
  },
  {
   "cell_type": "code",
   "execution_count": null,
   "metadata": {},
   "outputs": [],
   "source": [
    "fig1, ax1 = bounds.plot(metadata_filtered)"
   ]
  },
  {
   "cell_type": "markdown",
   "metadata": {},
   "source": [
    "The second way to filter the metadata is is to use pandas syntax for a \"static filtering\". This might be useful for a reproducible plotting script:"
   ]
  },
  {
   "cell_type": "code",
   "execution_count": null,
   "metadata": {},
   "outputs": [],
   "source": [
    "include_by_arxiv_ids = ['1110.1529', '1804.00628']\n",
    "exclude_by_targets = ['fornaxcluster']\n",
    "exclude_by_comments = ['MIN model', 'MAX model']\n",
    "metadata_filtered = metadata_all.loc[(metadata_all['Arxiv'].isin(include_by_arxiv_ids)) \\\n",
    "                                     & (metadata_all['Channel'] == 'bb') \\\n",
    "                                     & (metadata_all['Mode'] == 'ann') \\\n",
    "                                     & (~metadata_all['Target'].isin(exclude_by_targets)) \\\n",
    "                                     & (~metadata_all['Comment'].isin(exclude_by_comments))\n",
    "                                    ]\n",
    "display(bounds.show_metadata(metadata_filtered))\n",
    "bounds.plot(metadata_filtered);"
   ]
  },
  {
   "cell_type": "markdown",
   "metadata": {},
   "source": [
    "You can define your own style for the figure:"
   ]
  },
  {
   "cell_type": "code",
   "execution_count": null,
   "metadata": {},
   "outputs": [],
   "source": [
    "style = bounds.PlottingStyle('antique', legend='fancy')\n",
    "fig2, ax2 = bounds.plot(metadata_filtered, style)"
   ]
  },
  {
   "cell_type": "markdown",
   "metadata": {},
   "source": [
    "You can scale the axes or modify the colors:"
   ]
  },
  {
   "cell_type": "code",
   "execution_count": null,
   "metadata": {},
   "outputs": [],
   "source": [
    "style.ymin = 1e-26\n",
    "style.ymax = 1e-21\n",
    "style.color_cycle = ['orange',3]\n",
    "fig2, ax2 = bounds.plot(metadata_filtered, style);"
   ]
  },
  {
   "cell_type": "markdown",
   "metadata": {},
   "source": [
    "You can also manually modify the matplotlib figure. However, you might have to modify each element individually to fit again, see e.g.:"
   ]
  },
  {
   "cell_type": "code",
   "execution_count": null,
   "metadata": {},
   "outputs": [],
   "source": [
    "ax2.set_ylim([1e-26,5e-22]);\n",
    "fig2"
   ]
  },
  {
   "cell_type": "markdown",
   "metadata": {},
   "source": [
    "So let's move the label again to a suitable position:"
   ]
  },
  {
   "cell_type": "code",
   "execution_count": null,
   "metadata": {},
   "outputs": [],
   "source": [
    "import matplotlib\n",
    "children = ax2.get_children()\n",
    "texts = [element for element in children if isinstance(element, matplotlib.text.Text)]\n",
    "texts"
   ]
  },
  {
   "cell_type": "code",
   "execution_count": null,
   "metadata": {},
   "outputs": [],
   "source": [
    "for text in texts[:2]:\n",
    "    text.set_position((text.get_position()[0], 0.95 * 5e-22))\n",
    "fig2"
   ]
  },
  {
   "cell_type": "markdown",
   "metadata": {},
   "source": [
    "You can retrieve the data with the following command:"
   ]
  },
  {
   "cell_type": "code",
   "execution_count": null,
   "metadata": {},
   "outputs": [],
   "source": [
    "data = bounds.get_data(metadata_filtered)\n",
    "display(bounds.show_metadata(metadata_filtered.iloc[[0]]))\n",
    "display(data[0])"
   ]
  },
  {
   "cell_type": "markdown",
   "metadata": {},
   "source": [
    "Finally, save the figure in desired format and resolution:"
   ]
  },
  {
   "cell_type": "code",
   "execution_count": null,
   "metadata": {},
   "outputs": [],
   "source": [
    "fig2.savefig(\"test.png\", format='png', dpi=300, bbox_inches=\"tight\")"
   ]
  }
 ],
 "metadata": {
  "kernelspec": {
   "display_name": "Python 3 (ipykernel)",
   "language": "python",
   "name": "python3"
  },
  "language_info": {
   "codemirror_mode": {
    "name": "ipython",
    "version": 3
   },
   "file_extension": ".py",
   "mimetype": "text/x-python",
   "name": "python",
   "nbconvert_exporter": "python",
   "pygments_lexer": "ipython3",
   "version": "3.8.13"
  }
 },
 "nbformat": 4,
 "nbformat_minor": 2
}
