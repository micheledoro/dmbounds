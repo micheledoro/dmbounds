{
 "cells": [
  {
   "cell_type": "code",
   "execution_count": 79,
   "id": "55f9c774",
   "metadata": {},
   "outputs": [],
   "source": [
    "from astropy.io import ascii\n",
    "from matplotlib import pyplot as plt\n",
    "\n",
    "data = ascii.read(\"bounds/veritas/veritas_2017_multidsph_ann_gg_noseg1.ecsv\") \n"
   ]
  },
  {
   "cell_type": "code",
   "execution_count": 80,
   "id": "1b4920a3",
   "metadata": {},
   "outputs": [
    {
     "data": {
      "text/html": [
       "<i>Table length=40</i>\n",
       "<table id=\"table140196253514864\" class=\"table-striped table-bordered table-condensed\">\n",
       "<thead><tr><th>mass</th><th>sigmav_lo</th><th>sigmav</th><th>sigmav_hi</th></tr></thead>\n",
       "<thead><tr><th>TeV</th><th>cm3 / s</th><th>cm3 / s</th><th>cm3 / s</th></tr></thead>\n",
       "<thead><tr><th>float32</th><th>float32</th><th>float32</th><th>float32</th></tr></thead>\n",
       "<tr><td>100.0</td><td>1.2961601e-21</td><td>1.7201584e-21</td><td>2.1776806e-21</td></tr>\n",
       "<tr><td>119.37766</td><td>5.298019e-22</td><td>7.13045e-22</td><td>9.12052e-22</td></tr>\n",
       "<tr><td>142.51027</td><td>2.404622e-22</td><td>3.3545577e-22</td><td>4.374909e-22</td></tr>\n",
       "<tr><td>170.12543</td><td>1.1946873e-22</td><td>1.7569956e-22</td><td>2.3505437e-22</td></tr>\n",
       "<tr><td>203.09177</td><td>6.435585e-23</td><td>9.953957e-23</td><td>1.3644677e-22</td></tr>\n",
       "<tr><td>242.4462</td><td>3.8715176e-23</td><td>6.2882495e-23</td><td>8.849439e-23</td></tr>\n",
       "<tr><td>289.4266</td><td>2.5455841e-23</td><td>4.282995e-23</td><td>6.187282e-23</td></tr>\n",
       "<tr><td>345.51074</td><td>1.8177624e-23</td><td>3.132569e-23</td><td>4.6274988e-23</td></tr>\n",
       "<tr><td>412.46265</td><td>1.388638e-23</td><td>2.4499748e-23</td><td>3.698744e-23</td></tr>\n",
       "<tr><td>...</td><td>...</td><td>...</td><td>...</td></tr>\n",
       "<tr><td>20309.176</td><td>1.7492897e-23</td><td>3.50073e-23</td><td>6.300417e-23</td></tr>\n",
       "<tr><td>24244.621</td><td>1.9832017e-23</td><td>3.969533e-23</td><td>7.114343e-23</td></tr>\n",
       "<tr><td>28942.662</td><td>2.263742e-23</td><td>4.5218665e-23</td><td>8.0840326e-23</td></tr>\n",
       "<tr><td>34551.074</td><td>2.5971622e-23</td><td>5.1691666e-23</td><td>9.2303144e-23</td></tr>\n",
       "<tr><td>41246.266</td><td>2.996308e-23</td><td>5.95304e-23</td><td>1.0583355e-22</td></tr>\n",
       "<tr><td>49238.83</td><td>3.4703888e-23</td><td>6.884913e-23</td><td>1.2222263e-22</td></tr>\n",
       "<tr><td>58780.16</td><td>4.0375845e-23</td><td>8.006919e-23</td><td>1.4185169e-22</td></tr>\n",
       "<tr><td>70170.38</td><td>4.7087947e-23</td><td>9.33024e-23</td><td>1.6528864e-22</td></tr>\n",
       "<tr><td>83767.766</td><td>5.514164e-23</td><td>1.0941198e-22</td><td>1.9356111e-22</td></tr>\n",
       "<tr><td>100000.0</td><td>6.498231e-23</td><td>1.2884973e-22</td><td>2.2792983e-22</td></tr>\n",
       "</table>"
      ],
      "text/plain": [
       "<Table length=40>\n",
       "   mass     sigmav_lo       sigmav      sigmav_hi  \n",
       "   TeV       cm3 / s       cm3 / s       cm3 / s   \n",
       " float32     float32       float32       float32   \n",
       "--------- ------------- ------------- -------------\n",
       "    100.0 1.2961601e-21 1.7201584e-21 2.1776806e-21\n",
       "119.37766  5.298019e-22   7.13045e-22   9.12052e-22\n",
       "142.51027  2.404622e-22 3.3545577e-22  4.374909e-22\n",
       "170.12543 1.1946873e-22 1.7569956e-22 2.3505437e-22\n",
       "203.09177  6.435585e-23  9.953957e-23 1.3644677e-22\n",
       " 242.4462 3.8715176e-23 6.2882495e-23  8.849439e-23\n",
       " 289.4266 2.5455841e-23  4.282995e-23  6.187282e-23\n",
       "345.51074 1.8177624e-23  3.132569e-23 4.6274988e-23\n",
       "412.46265  1.388638e-23 2.4499748e-23  3.698744e-23\n",
       "      ...           ...           ...           ...\n",
       "20309.176 1.7492897e-23   3.50073e-23  6.300417e-23\n",
       "24244.621 1.9832017e-23  3.969533e-23  7.114343e-23\n",
       "28942.662  2.263742e-23 4.5218665e-23 8.0840326e-23\n",
       "34551.074 2.5971622e-23 5.1691666e-23 9.2303144e-23\n",
       "41246.266  2.996308e-23   5.95304e-23 1.0583355e-22\n",
       " 49238.83 3.4703888e-23  6.884913e-23 1.2222263e-22\n",
       " 58780.16 4.0375845e-23  8.006919e-23 1.4185169e-22\n",
       " 70170.38 4.7087947e-23   9.33024e-23 1.6528864e-22\n",
       "83767.766  5.514164e-23 1.0941198e-22 1.9356111e-22\n",
       " 100000.0  6.498231e-23 1.2884973e-22 2.2792983e-22"
      ]
     },
     "execution_count": 80,
     "metadata": {},
     "output_type": "execute_result"
    }
   ],
   "source": [
    "data"
   ]
  },
  {
   "cell_type": "code",
   "execution_count": 81,
   "id": "1f2b7bc2",
   "metadata": {},
   "outputs": [
    {
     "data": {
      "text/plain": [
       "'gg'"
      ]
     },
     "execution_count": 81,
     "metadata": {},
     "output_type": "execute_result"
    }
   ],
   "source": [
    "data.meta['channel']"
   ]
  },
  {
   "cell_type": "code",
   "execution_count": 82,
   "id": "d03ba5ad",
   "metadata": {},
   "outputs": [
    {
     "data": {
      "text/plain": [
       "[<matplotlib.lines.Line2D at 0x7f81b94e82b0>]"
      ]
     },
     "execution_count": 82,
     "metadata": {},
     "output_type": "execute_result"
    },
    {
     "data": {
      "image/png": "[encoded data removed]",
      "text/plain": [
       "<Figure size 432x288 with 1 Axes>"
      ]
     },
     "metadata": {
      "needs_background": "light"
     },
     "output_type": "display_data"
    }
   ],
   "source": [
    "plt.loglog(data['mass'], data['sigmav'])\n"
   ]
  },
  {
   "cell_type": "code",
   "execution_count": null,
   "id": "4b2db653",
   "metadata": {},
   "outputs": [],
   "source": []
  },
  {
   "cell_type": "code",
   "execution_count": null,
   "id": "67f398c9",
   "metadata": {},
   "outputs": [],
   "source": []
  }
 ],
 "metadata": {
  "kernelspec": {
   "display_name": "Python 3",
   "language": "python",
   "name": "python3"
  },
  "language_info": {
   "codemirror_mode": {
    "name": "ipython",
    "version": 3
   },
   "file_extension": ".py",
   "mimetype": "text/x-python",
   "name": "python",
   "nbconvert_exporter": "python",
   "pygments_lexer": "ipython3",
   "version": "3.8.8"
  }
 },
 "nbformat": 4,
 "nbformat_minor": 5
}
