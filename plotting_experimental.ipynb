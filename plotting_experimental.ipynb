{
 "cells": [
  {
   "cell_type": "code",
   "execution_count": 1,
   "id": "55f9c774",
   "metadata": {},
   "outputs": [],
   "source": [
    "from astropy.io import ascii\n",
    "\n",
    "import matplotlib as mpl\n",
    "from matplotlib import pyplot as plt\n",
    "from matplotlib import cm\n",
    "\n",
    "import numpy as np\n",
    "import astropy.units as u\n",
    "\n",
    "from scipy.interpolate import UnivariateSpline\n",
    "from scipy.ndimage import gaussian_filter1d\n",
    "from scipy.interpolate import interp1d\n",
    "from scipy.interpolate import make_interp_spline, BSpline\n",
    "\n"
   ]
  },
  {
   "cell_type": "code",
   "execution_count": 2,
   "id": "184f41ea",
   "metadata": {},
   "outputs": [],
   "source": [
    "pgf_with_rc_fonts = {                      # setup matplotlib to use latex for output\n",
    "    \"pgf.texsystem\": \"pdflatex\",        # change this if using xetex or lautex\n",
    "    \"text.usetex\": True,                # use LaTeX to write all text\n",
    "    \"font.family\": \"sans-serif\",\n",
    "    \"font.serif\": [],                   # blank entries should cause plots to inherit fonts from the document\n",
    "    \"font.sans-serif\": [],\n",
    "    \"font.monospace\": [],\n",
    "    \"axes.labelsize\": 12,               # LaTeX default is 10pt font.\n",
    "    \"font.size\": 12,\n",
    "    \"legend.fontsize\": 12,               # Make the legend/label fonts a little smaller\n",
    "    \"xtick.labelsize\": 13,\n",
    "    \"ytick.labelsize\": 13,\n",
    "    \"xtick.direction\": \"in\",\n",
    "    \"ytick.direction\": \"in\",\n",
    "    \"xtick.top\": True,\n",
    "    \"ytick.right\": True,\n",
    "    \"pgf.preamble\": [\n",
    "        r\"\\usepackage[utf8x]{inputenc}\",    # use utf8 fonts becasue your computer can handle it :)\n",
    "        r\"\\usepackage[T1]{fontenc}\",        # plots will be generated using this preamble\n",
    "        ]\n",
    "    }\n",
    "\n",
    "mpl.rcParams.update(pgf_with_rc_fonts)\n",
    "# full page plot:\n",
    "figwidth  = 35/ 2.54 \n",
    "\n",
    "# half page plot:\n",
    "#figwidth  = 16 / 2.54 \n",
    "\n",
    "# half page plot:\n",
    "#figwidth  = 11.6 / 2.54 \n",
    "\n",
    "# ratio:\n",
    "ratio = 0.65\n",
    "\n",
    "image_resolution = 5000\n",
    "\n",
    "figheight  = ratio * figwidth\n",
    "\n",
    "from palettable.scientific.sequential import Oslo_9 as colormap\n",
    "\n",
    "#from palettable.colorbrewer.qualitative import Dark2_7 as colormap\n",
    "#from palettable.cartocolors.qualitative import Bold_4 as colormap\n",
    "#from palettable.colorbrewer.qualitative import Set1_4 as colormap\n",
    "\n",
    "\n",
    "cmap = colormap.get_mpl_colormap()\n",
    "cmap = mpl.cm.get_cmap(\"bone\").copy()\n",
    "cmap.set_under(\"w\") # sets background to white\n",
    "\n",
    "        "
   ]
  },
  {
   "cell_type": "code",
   "execution_count": 3,
   "id": "ca819639",
   "metadata": {},
   "outputs": [],
   "source": [
    "def log_interp1d(xx, yy, kind='linear'):\n",
    "    logx = np.log10(xx)\n",
    "    logy = np.log10(yy)\n",
    "    lin_interp = interp1d(logx, logy, kind=kind, bounds_error=False)\n",
    "    log_interp = lambda zz: np.power(10.0, lin_interp(np.log10(zz)))\n",
    "    return log_interp\n"
   ]
  },
  {
   "cell_type": "code",
   "execution_count": 4,
   "id": "64b27443",
   "metadata": {},
   "outputs": [],
   "source": [
    "def data_on_grid(x, y, grid, interpolation_kind='linear', unit='TeV', loglog=True):\n",
    "    y_unit = y.unit\n",
    "    if loglog==True:\n",
    "        interpol_model=log_interp1d(x.to('TeV').value, y.value, kind=interpolation_kind)\n",
    "        ys_loginterp=interpol_model(x_grid.to('TeV').value)\n",
    "        \n",
    "    return ys_loginterp * y_unit"
   ]
  },
  {
   "cell_type": "code",
   "execution_count": 5,
   "id": "64bfbb36",
   "metadata": {},
   "outputs": [],
   "source": [
    "def make_grid(xmin, xmax, npoints=300, unit='TeV', log=True):\n",
    "    xmin_val = xmin.to('TeV').value\n",
    "    xmax_val = xmax.to('TeV').value\n",
    "    if log==True:\n",
    "        x_grid = np.logspace(np.log10(xmin_val), np.log10(xmax_val), npoints)\n",
    "    else:\n",
    "        x_grid = np.linspace(xmin_val, xmax_val, npoints)\n",
    "    return (x_grid *u.TeV).to(unit)"
   ]
  },
  {
   "cell_type": "code",
   "execution_count": 6,
   "id": "f6a43eea",
   "metadata": {},
   "outputs": [],
   "source": [
    "xmin = 1*u.GeV\n",
    "xmax = 100*u.TeV"
   ]
  },
  {
   "cell_type": "code",
   "execution_count": 7,
   "id": "d355dd25",
   "metadata": {},
   "outputs": [],
   "source": [
    "x_grid = make_grid(xmin, xmax, npoints=1000, unit='TeV', log=True)"
   ]
  },
  {
   "cell_type": "code",
   "execution_count": 8,
   "id": "605ba43f",
   "metadata": {},
   "outputs": [],
   "source": [
    "data_fermi2020 = ascii.read(\"bounds/fermi/fermi_2020_multidsph_ann_bb_oneD_frequentist.ecsv\")\n",
    "data_fermi2017 = ascii.read(\"bounds/fermi/fermi_2017_multidsph_ann_bb.ecsv\") \n",
    "data_magic = ascii.read(\"bounds/magic/magic_2022_combined4_ann_bb.ecsv\") \n",
    "data_hawc = ascii.read(\"bounds/hawc/hawc_2017_multidsph_ann_bb_notri2.ecsv\") \n",
    "data_hess_fornax = ascii.read(\"bounds/hess/hess_2012_fornaxcluster_ann_bb_nfwrb02.ecsv\") \n",
    "\n",
    "\n",
    "legend_channel = ascii.read(\"legend_experiments.ecsv\") "
   ]
  },
  {
   "cell_type": "code",
   "execution_count": 9,
   "id": "a52a4d0e",
   "metadata": {},
   "outputs": [],
   "source": [
    "fermi_2020_gridded = data_on_grid(data_fermi2020['mass'], data_fermi2020['sigmav'], x_grid, interpolation_kind='quadratic')\n",
    "fermi_2017_gridded = data_on_grid(data_fermi2017['mass'], data_fermi2017['sigmav'], x_grid, interpolation_kind='quadratic')\n",
    "magic_gridded = data_on_grid(data_magic['mass'], data_magic['sigmav'], x_grid, interpolation_kind='quadratic')\n",
    "hawc_gridded = data_on_grid(data_hawc['mass'], data_hawc['sigmav'], x_grid, interpolation_kind='quadratic')"
   ]
  },
  {
   "cell_type": "code",
   "execution_count": 10,
   "id": "94069d16",
   "metadata": {},
   "outputs": [],
   "source": [
    "envelope= []\n",
    "\n",
    "for i in range(len(x_grid)):\n",
    "    val1 = fermi_2020_gridded[i].value\n",
    "    if np.isnan(val1): val1 =1e40\n",
    "    val2 = fermi_2017_gridded[i].value\n",
    "    if np.isnan(val2): val2 =1e40\n",
    "    val3 = magic_gridded[i].value\n",
    "    if np.isnan(val3): val3 =1e40\n",
    "    minvals = [val1, val2, val3]\n",
    "    envelope.append(0.95*min(minvals))"
   ]
  },
  {
   "cell_type": "code",
   "execution_count": 11,
   "id": "6c56322e",
   "metadata": {},
   "outputs": [],
   "source": [
    "data_fermi2020['mass'] = data_fermi2020['mass'].to('TeV')\n",
    "data_fermi2017['mass'] = data_fermi2017['mass'].to('TeV')\n",
    "data_magic['mass'] = data_magic['mass'].to('TeV')\n",
    "data_hawc['mass'] = data_hawc['mass'].to('TeV')\n",
    "data_hess_fornax['mass'] = data_hess_fornax['mass'].to('TeV')"
   ]
  },
  {
   "cell_type": "code",
   "execution_count": 12,
   "id": "d03ba5ad",
   "metadata": {},
   "outputs": [
    {
     "data": {
      "image/png": "[encoded data removed]",
      "text/plain": [
       "<Figure size 992.126x644.882 with 1 Axes>"
      ]
     },
     "metadata": {
      "needs_background": "light"
     },
     "output_type": "display_data"
    }
   ],
   "source": [
    "\n",
    "plot_limits = plt.figure(figsize=(figwidth, figheight))\n",
    "plt.plot(x_grid, fermi_2020_gridded)\n",
    "plt.plot(x_grid, fermi_2017_gridded)\n",
    "plt.plot(x_grid, magic_gridded)\n",
    "\n",
    "#plt.plot(data_magic['mass'], data_magic['sigmav'])\n",
    "plt.plot(data_hawc['mass'], data_hawc['sigmav'])\n",
    "#plt.plot(data_hess_fornax['mass'], data_hess_fornax['sigmav'])\n",
    "plt.fill_between(x_grid.value, fermi_2020_gridded.value, np.ones(len(x_grid)), alpha=0.2)\n",
    "plt.fill_between(x_grid.value, fermi_2017_gridded.value, np.ones(len(x_grid)), alpha=0.2)\n",
    "plt.fill_between(x_grid.value, magic_gridded.value, np.ones(len(x_grid)), alpha=0.2)\n",
    "plt.fill_between(x_grid.value, hawc_gridded.value, np.ones(len(x_grid)), alpha=0.2)\n",
    "#plt.fill_between(x_grid.value, fermi_2020_gridded.value, np.ones(len(data_hess_fornax['sigmav'])), alpha=0.2)\n",
    "\n",
    "plt.plot(x_grid, envelope, linewidth=5, color='k', alpha=0.5)\n",
    "\n",
    "\n",
    "plt.xscale('log')\n",
    "plt.yscale('log')\n",
    "plt.ylim([1e-27,1e-21])\n",
    "plt.xlim([xmin.to('TeV').value, xmax.to('TeV').value]);"
   ]
  },
  {
   "cell_type": "code",
   "execution_count": 13,
   "id": "67f398c9",
   "metadata": {},
   "outputs": [
    {
     "data": {
      "text/html": [
       "<div><i>Table length=10</i>\n",
       "<table id=\"table140364791204880\" class=\"table-striped table-bordered table-condensed\">\n",
       "<thead><tr><th>shortname</th><th>longname</th></tr></thead>\n",
       "<thead><tr><th>str8</th><th>str9</th></tr></thead>\n",
       "<tr><td>magic</td><td>MAGIC</td></tr>\n",
       "<tr><td>hess</td><td>H.E.S.S.</td></tr>\n",
       "<tr><td>veritas</td><td>VERITAS</td></tr>\n",
       "<tr><td>whipple</td><td>WHIPPLE</td></tr>\n",
       "<tr><td>cangaroo</td><td>CANGAROO</td></tr>\n",
       "<tr><td>lat</td><td>FERMI-LAT</td></tr>\n",
       "<tr><td>agile</td><td>AGILE</td></tr>\n",
       "<tr><td>lhaaso</td><td>LHAASO</td></tr>\n",
       "<tr><td>hawc</td><td>HAWC</td></tr>\n",
       "<tr><td>swgo</td><td>SWGO</td></tr>\n",
       "</table></div>"
      ],
      "text/plain": [
       "<Table length=10>\n",
       "shortname  longname\n",
       "   str8      str9  \n",
       "--------- ---------\n",
       "    magic     MAGIC\n",
       "     hess  H.E.S.S.\n",
       "  veritas   VERITAS\n",
       "  whipple   WHIPPLE\n",
       " cangaroo  CANGAROO\n",
       "      lat FERMI-LAT\n",
       "    agile     AGILE\n",
       "   lhaaso    LHAASO\n",
       "     hawc      HAWC\n",
       "     swgo      SWGO"
      ]
     },
     "execution_count": 13,
     "metadata": {},
     "output_type": "execute_result"
    }
   ],
   "source": [
    "legend_channel"
   ]
  }
 ],
 "metadata": {
  "kernelspec": {
   "display_name": "Python 3",
   "language": "python",
   "name": "python3"
  },
  "language_info": {
   "codemirror_mode": {
    "name": "ipython",
    "version": 3
   },
   "file_extension": ".py",
   "mimetype": "text/x-python",
   "name": "python",
   "nbconvert_exporter": "python",
   "pygments_lexer": "ipython3",
   "version": "3.8.8"
  }
 },
 "nbformat": 4,
 "nbformat_minor": 5
}
